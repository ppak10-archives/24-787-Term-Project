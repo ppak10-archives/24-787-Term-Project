{
 "cells": [
  {
   "cell_type": "markdown",
   "metadata": {},
   "source": [
    "# Predict the Critical Temperature of a Superconductor with Random Forest\n",
    "This notebook will reproduce and improve the Random Forest results of `predict_tc` in the Python language."
   ]
  },
  {
   "cell_type": "markdown",
   "metadata": {},
   "source": [
    "The paper makes these points about random forest implementation.\n",
    "\n",
    "> Scalability and speed are important advantages of using XGBoost over random forests"
   ]
  },
  {
   "cell_type": "code",
   "execution_count": null,
   "metadata": {},
   "outputs": [],
   "source": [
    "# Install `pyCHNOSZ` if not installed already.\n",
    "!pip install pyCHNOSZ"
   ]
  },
  {
   "cell_type": "code",
   "execution_count": 2,
   "metadata": {},
   "outputs": [],
   "source": [
    "import numpy as np\n",
    "import pickle\n",
    "import pyCHNOSZ\n",
    "from sklearn.ensemble import RandomForestRegressor\n",
    "from tqdm import tqdm\n",
    "from xgboost import XGBRegressor\n",
    "\n",
    "# Local Modules\n",
    "from pyplot_data import plot_observed_vs_predicted\n",
    "from read_data import load_and_split"
   ]
  },
  {
   "cell_type": "markdown",
   "metadata": {},
   "source": [
    ">**Out-Of_sample RMSE Estimation Procedure**\n",
    ">1. At random divide the data into 2/3 train and 1/3 test data."
   ]
  },
  {
   "cell_type": "code",
   "execution_count": 3,
   "metadata": {},
   "outputs": [
    {
     "name": "stdout",
     "output_type": "stream",
     "text": [
      "Data Shape: (21263, 82)\n",
      "Training Features Shape: (14033, 81)\n",
      "Training Labels Shape: (14033, 1)\n",
      "Testing Features Shape: (7230, 81)\n",
      "Testing Labels Shape: (7230, 1)\n",
      "Training Size: 0.66 vs. Testing Size: 0.33999999999999997\n"
     ]
    }
   ],
   "source": [
    "training_X, training_y, testing_X, testing_y = load_and_split()"
   ]
  },
  {
   "cell_type": "markdown",
   "metadata": {},
   "source": [
    ">2. Fit the model using the train data."
   ]
  },
  {
   "cell_type": "markdown",
   "metadata": {},
   "source": [
    "The paper mentions that the model with the lowest out-of-sample rmse was obtained with the following parameters.\n",
    ">$\\eta$ = 0.02, maximum depth = 16, minimum child weight = 1, column subsampling = 0.50, and a tree size of 374.\n",
    "\n",
    "We will first train a model with these parameters."
   ]
  },
  {
   "cell_type": "code",
   "execution_count": 6,
   "metadata": {},
   "outputs": [
    {
     "data": {
      "text/html": [
       "<style>#sk-container-id-2 {color: black;background-color: white;}#sk-container-id-2 pre{padding: 0;}#sk-container-id-2 div.sk-toggleable {background-color: white;}#sk-container-id-2 label.sk-toggleable__label {cursor: pointer;display: block;width: 100%;margin-bottom: 0;padding: 0.3em;box-sizing: border-box;text-align: center;}#sk-container-id-2 label.sk-toggleable__label-arrow:before {content: \"▸\";float: left;margin-right: 0.25em;color: #696969;}#sk-container-id-2 label.sk-toggleable__label-arrow:hover:before {color: black;}#sk-container-id-2 div.sk-estimator:hover label.sk-toggleable__label-arrow:before {color: black;}#sk-container-id-2 div.sk-toggleable__content {max-height: 0;max-width: 0;overflow: hidden;text-align: left;background-color: #f0f8ff;}#sk-container-id-2 div.sk-toggleable__content pre {margin: 0.2em;color: black;border-radius: 0.25em;background-color: #f0f8ff;}#sk-container-id-2 input.sk-toggleable__control:checked~div.sk-toggleable__content {max-height: 200px;max-width: 100%;overflow: auto;}#sk-container-id-2 input.sk-toggleable__control:checked~label.sk-toggleable__label-arrow:before {content: \"▾\";}#sk-container-id-2 div.sk-estimator input.sk-toggleable__control:checked~label.sk-toggleable__label {background-color: #d4ebff;}#sk-container-id-2 div.sk-label input.sk-toggleable__control:checked~label.sk-toggleable__label {background-color: #d4ebff;}#sk-container-id-2 input.sk-hidden--visually {border: 0;clip: rect(1px 1px 1px 1px);clip: rect(1px, 1px, 1px, 1px);height: 1px;margin: -1px;overflow: hidden;padding: 0;position: absolute;width: 1px;}#sk-container-id-2 div.sk-estimator {font-family: monospace;background-color: #f0f8ff;border: 1px dotted black;border-radius: 0.25em;box-sizing: border-box;margin-bottom: 0.5em;}#sk-container-id-2 div.sk-estimator:hover {background-color: #d4ebff;}#sk-container-id-2 div.sk-parallel-item::after {content: \"\";width: 100%;border-bottom: 1px solid gray;flex-grow: 1;}#sk-container-id-2 div.sk-label:hover label.sk-toggleable__label {background-color: #d4ebff;}#sk-container-id-2 div.sk-serial::before {content: \"\";position: absolute;border-left: 1px solid gray;box-sizing: border-box;top: 0;bottom: 0;left: 50%;z-index: 0;}#sk-container-id-2 div.sk-serial {display: flex;flex-direction: column;align-items: center;background-color: white;padding-right: 0.2em;padding-left: 0.2em;position: relative;}#sk-container-id-2 div.sk-item {position: relative;z-index: 1;}#sk-container-id-2 div.sk-parallel {display: flex;align-items: stretch;justify-content: center;background-color: white;position: relative;}#sk-container-id-2 div.sk-item::before, #sk-container-id-2 div.sk-parallel-item::before {content: \"\";position: absolute;border-left: 1px solid gray;box-sizing: border-box;top: 0;bottom: 0;left: 50%;z-index: -1;}#sk-container-id-2 div.sk-parallel-item {display: flex;flex-direction: column;z-index: 1;position: relative;background-color: white;}#sk-container-id-2 div.sk-parallel-item:first-child::after {align-self: flex-end;width: 50%;}#sk-container-id-2 div.sk-parallel-item:last-child::after {align-self: flex-start;width: 50%;}#sk-container-id-2 div.sk-parallel-item:only-child::after {width: 0;}#sk-container-id-2 div.sk-dashed-wrapped {border: 1px dashed gray;margin: 0 0.4em 0.5em 0.4em;box-sizing: border-box;padding-bottom: 0.4em;background-color: white;}#sk-container-id-2 div.sk-label label {font-family: monospace;font-weight: bold;display: inline-block;line-height: 1.2em;}#sk-container-id-2 div.sk-label-container {text-align: center;}#sk-container-id-2 div.sk-container {/* jupyter's `normalize.less` sets `[hidden] { display: none; }` but bootstrap.min.css set `[hidden] { display: none !important; }` so we also need the `!important` here to be able to override the default hidden behavior on the sphinx rendered scikit-learn.org. See: https://github.com/scikit-learn/scikit-learn/issues/21755 */display: inline-block !important;position: relative;}#sk-container-id-2 div.sk-text-repr-fallback {display: none;}</style><div id=\"sk-container-id-2\" class=\"sk-top-container\"><div class=\"sk-text-repr-fallback\"><pre>XGBRegressor(base_score=0.5, booster=&#x27;gbtree&#x27;, callbacks=None,\n",
       "             colsample_bylevel=0.5, colsample_bynode=0.5, colsample_bytree=0.5,\n",
       "             early_stopping_rounds=None, enable_categorical=False,\n",
       "             eval_metric=None, feature_types=None, gamma=0, gpu_id=-1,\n",
       "             grow_policy=&#x27;depthwise&#x27;, importance_type=None,\n",
       "             interaction_constraints=&#x27;&#x27;, learning_rate=0.02, max_bin=256,\n",
       "             max_cat_threshold=64, max_cat_to_onehot=4, max_delta_step=0,\n",
       "             max_depth=16, max_leaves=0, min_child_weight=1, missing=nan,\n",
       "             monotone_constraints=&#x27;()&#x27;, n_estimators=374, n_jobs=0,\n",
       "             num_parallel_tree=1, predictor=&#x27;auto&#x27;, random_state=0, ...)</pre><b>In a Jupyter environment, please rerun this cell to show the HTML representation or trust the notebook. <br />On GitHub, the HTML representation is unable to render, please try loading this page with nbviewer.org.</b></div><div class=\"sk-container\" hidden><div class=\"sk-item\"><div class=\"sk-estimator sk-toggleable\"><input class=\"sk-toggleable__control sk-hidden--visually\" id=\"sk-estimator-id-2\" type=\"checkbox\" checked><label for=\"sk-estimator-id-2\" class=\"sk-toggleable__label sk-toggleable__label-arrow\">XGBRegressor</label><div class=\"sk-toggleable__content\"><pre>XGBRegressor(base_score=0.5, booster=&#x27;gbtree&#x27;, callbacks=None,\n",
       "             colsample_bylevel=0.5, colsample_bynode=0.5, colsample_bytree=0.5,\n",
       "             early_stopping_rounds=None, enable_categorical=False,\n",
       "             eval_metric=None, feature_types=None, gamma=0, gpu_id=-1,\n",
       "             grow_policy=&#x27;depthwise&#x27;, importance_type=None,\n",
       "             interaction_constraints=&#x27;&#x27;, learning_rate=0.02, max_bin=256,\n",
       "             max_cat_threshold=64, max_cat_to_onehot=4, max_delta_step=0,\n",
       "             max_depth=16, max_leaves=0, min_child_weight=1, missing=nan,\n",
       "             monotone_constraints=&#x27;()&#x27;, n_estimators=374, n_jobs=0,\n",
       "             num_parallel_tree=1, predictor=&#x27;auto&#x27;, random_state=0, ...)</pre></div></div></div></div></div>"
      ],
      "text/plain": [
       "XGBRegressor(base_score=0.5, booster='gbtree', callbacks=None,\n",
       "             colsample_bylevel=0.5, colsample_bynode=0.5, colsample_bytree=0.5,\n",
       "             early_stopping_rounds=None, enable_categorical=False,\n",
       "             eval_metric=None, feature_types=None, gamma=0, gpu_id=-1,\n",
       "             grow_policy='depthwise', importance_type=None,\n",
       "             interaction_constraints='', learning_rate=0.02, max_bin=256,\n",
       "             max_cat_threshold=64, max_cat_to_onehot=4, max_delta_step=0,\n",
       "             max_depth=16, max_leaves=0, min_child_weight=1, missing=nan,\n",
       "             monotone_constraints='()', n_estimators=374, n_jobs=0,\n",
       "             num_parallel_tree=1, predictor='auto', random_state=0, ...)"
      ]
     },
     "execution_count": 6,
     "metadata": {},
     "output_type": "execute_result"
    }
   ],
   "source": [
    "xgb_lowest_rmse = XGBRegressor(\n",
    "    learning_rate = 0.02,\n",
    "    max_depth = 16,\n",
    "    min_child_weight = 1,\n",
    "    n_estimators=374,\n",
    "    colsample_bytree=0.5,\n",
    "    colsample_bylevel=0.5,\n",
    "    colsample_bynode=0.5\n",
    ")\n",
    "xgb_lowest_rmse.fit(training_X, training_y)"
   ]
  },
  {
   "cell_type": "code",
   "execution_count": 10,
   "metadata": {},
   "outputs": [],
   "source": [
    "# Load Model\n",
    "with open(\"../models/xgb_lowest_rmse.pkl\", \"rb\") as f:\n",
    "    xgb_lowest_rmse = pickle.load(f)"
   ]
  },
  {
   "cell_type": "code",
   "execution_count": 8,
   "metadata": {},
   "outputs": [],
   "source": [
    "# Save Model\n",
    "with open(\"../models/xgb_lowest_rmse.pkl\", \"wb\") as f:\n",
    "    pickle.dump(xgb_lowest_rmse, f)"
   ]
  },
  {
   "cell_type": "markdown",
   "metadata": {},
   "source": [
    ">3. Predict $T_c$ of the test data."
   ]
  },
  {
   "cell_type": "code",
   "execution_count": 11,
   "metadata": {},
   "outputs": [
    {
     "name": "stdout",
     "output_type": "stream",
     "text": [
      "Score: 0.9230259263366578\n"
     ]
    },
    {
     "data": {
      "image/png": "[encoded data removed]",
      "text/plain": [
       "<Figure size 640x480 with 1 Axes>"
      ]
     },
     "metadata": {},
     "output_type": "display_data"
    }
   ],
   "source": [
    "# Generates prediction using xgboost.\n",
    "prediction_xgb_lowest_rmse = xgb_lowest_rmse.predict(testing_X)\n",
    "\n",
    "print(f\"Score: {xgb_lowest_rmse.score(testing_X, testing_y)}\")\n",
    "\n",
    "plot_observed_vs_predicted(\n",
    "    testing_y,\n",
    "    prediction_xgb_lowest_rmse,\n",
    "    title=\"Observed vs. Predicted Critical Temperature (lowest claimed rmse)\"\n",
    ")"
   ]
  },
  {
   "cell_type": "markdown",
   "metadata": {},
   "source": [
    "> 4. Obtain an estimate of the out-of-sample mean-squared-error (mse) by using the predictions from the last step and the observed $T_c$ values in the test data:\n",
    ">$$out\\;of\\;sample\\;mse=Average\\;of\\;(observed-predicted)^2$$"
   ]
  },
  {
   "cell_type": "code",
   "execution_count": 12,
   "metadata": {},
   "outputs": [],
   "source": [
    "def out_of_sample_mse(labels, prediction):\n",
    "    \"\"\"\n",
    "    Determines the out of sample mean squared error.\n",
    "    \"\"\"\n",
    "    return np.average(np.square(labels - prediction))"
   ]
  },
  {
   "cell_type": "code",
   "execution_count": 13,
   "metadata": {},
   "outputs": [
    {
     "name": "stdout",
     "output_type": "stream",
     "text": [
      "Current MSE: 2247.344494866849\n"
     ]
    }
   ],
   "source": [
    "mse_xgb_lowest_rmse = out_of_sample_mse(testing_y, prediction_xgb_lowest_rmse)\n",
    "\n",
    "print(f\"Current MSE: {mse_xgb_lowest_rmse}\")"
   ]
  },
  {
   "cell_type": "markdown",
   "metadata": {},
   "source": [
    "> 5. Repeat steps 1 through 4, 25 times to collect 25 out-of-sample mse's."
   ]
  },
  {
   "cell_type": "code",
   "execution_count": 14,
   "metadata": {},
   "outputs": [
    {
     "name": "stderr",
     "output_type": "stream",
     "text": [
      "  0%|          | 0/25 [00:00<?, ?it/s]"
     ]
    },
    {
     "name": "stdout",
     "output_type": "stream",
     "text": [
      "Data Shape: (21263, 82)\n",
      "Training Features Shape: (14033, 81)\n",
      "Training Labels Shape: (14033, 1)\n",
      "Testing Features Shape: (7230, 81)\n",
      "Testing Labels Shape: (7230, 1)\n",
      "Training Size: 0.66 vs. Testing Size: 0.33999999999999997\n"
     ]
    },
    {
     "name": "stderr",
     "output_type": "stream",
     "text": [
      "  4%|▍         | 1/25 [06:02<2:25:07, 362.81s/it]"
     ]
    },
    {
     "name": "stdout",
     "output_type": "stream",
     "text": [
      "Data Shape: (21263, 82)\n",
      "Training Features Shape: (14033, 81)\n",
      "Training Labels Shape: (14033, 1)\n",
      "Testing Features Shape: (7230, 81)\n",
      "Testing Labels Shape: (7230, 1)\n",
      "Training Size: 0.66 vs. Testing Size: 0.33999999999999997\n"
     ]
    },
    {
     "name": "stderr",
     "output_type": "stream",
     "text": [
      "  8%|▊         | 2/25 [12:04<2:18:48, 362.12s/it]"
     ]
    },
    {
     "name": "stdout",
     "output_type": "stream",
     "text": [
      "Data Shape: (21263, 82)\n",
      "Training Features Shape: (14033, 81)\n",
      "Training Labels Shape: (14033, 1)\n",
      "Testing Features Shape: (7230, 81)\n",
      "Testing Labels Shape: (7230, 1)\n",
      "Training Size: 0.66 vs. Testing Size: 0.33999999999999997\n"
     ]
    },
    {
     "name": "stderr",
     "output_type": "stream",
     "text": [
      " 12%|█▏        | 3/25 [17:55<2:10:56, 357.12s/it]"
     ]
    },
    {
     "name": "stdout",
     "output_type": "stream",
     "text": [
      "Data Shape: (21263, 82)\n",
      "Training Features Shape: (14033, 81)\n",
      "Training Labels Shape: (14033, 1)\n",
      "Testing Features Shape: (7230, 81)\n",
      "Testing Labels Shape: (7230, 1)\n",
      "Training Size: 0.66 vs. Testing Size: 0.33999999999999997\n"
     ]
    },
    {
     "name": "stderr",
     "output_type": "stream",
     "text": [
      " 16%|█▌        | 4/25 [23:48<2:04:25, 355.50s/it]"
     ]
    },
    {
     "name": "stdout",
     "output_type": "stream",
     "text": [
      "Data Shape: (21263, 82)\n",
      "Training Features Shape: (14033, 81)\n",
      "Training Labels Shape: (14033, 1)\n",
      "Testing Features Shape: (7230, 81)\n",
      "Testing Labels Shape: (7230, 1)\n",
      "Training Size: 0.66 vs. Testing Size: 0.33999999999999997\n"
     ]
    },
    {
     "name": "stderr",
     "output_type": "stream",
     "text": [
      " 20%|██        | 5/25 [29:27<1:56:33, 349.67s/it]"
     ]
    },
    {
     "name": "stdout",
     "output_type": "stream",
     "text": [
      "Data Shape: (21263, 82)\n",
      "Training Features Shape: (14033, 81)\n",
      "Training Labels Shape: (14033, 1)\n",
      "Testing Features Shape: (7230, 81)\n",
      "Testing Labels Shape: (7230, 1)\n",
      "Training Size: 0.66 vs. Testing Size: 0.33999999999999997\n"
     ]
    },
    {
     "name": "stderr",
     "output_type": "stream",
     "text": [
      " 24%|██▍       | 6/25 [35:13<1:50:19, 348.39s/it]"
     ]
    },
    {
     "name": "stdout",
     "output_type": "stream",
     "text": [
      "Data Shape: (21263, 82)\n",
      "Training Features Shape: (14033, 81)\n",
      "Training Labels Shape: (14033, 1)\n",
      "Testing Features Shape: (7230, 81)\n",
      "Testing Labels Shape: (7230, 1)\n",
      "Training Size: 0.66 vs. Testing Size: 0.33999999999999997\n"
     ]
    },
    {
     "name": "stderr",
     "output_type": "stream",
     "text": [
      " 28%|██▊       | 7/25 [40:58<1:44:06, 347.01s/it]"
     ]
    },
    {
     "name": "stdout",
     "output_type": "stream",
     "text": [
      "Data Shape: (21263, 82)\n",
      "Training Features Shape: (14033, 81)\n",
      "Training Labels Shape: (14033, 1)\n",
      "Testing Features Shape: (7230, 81)\n",
      "Testing Labels Shape: (7230, 1)\n",
      "Training Size: 0.66 vs. Testing Size: 0.33999999999999997\n"
     ]
    },
    {
     "name": "stderr",
     "output_type": "stream",
     "text": [
      " 32%|███▏      | 8/25 [46:16<1:35:43, 337.88s/it]"
     ]
    },
    {
     "name": "stdout",
     "output_type": "stream",
     "text": [
      "Data Shape: (21263, 82)\n",
      "Training Features Shape: (14033, 81)\n",
      "Training Labels Shape: (14033, 1)\n",
      "Testing Features Shape: (7230, 81)\n",
      "Testing Labels Shape: (7230, 1)\n",
      "Training Size: 0.66 vs. Testing Size: 0.33999999999999997\n"
     ]
    },
    {
     "name": "stderr",
     "output_type": "stream",
     "text": [
      " 36%|███▌      | 9/25 [5:16:49<23:35:12, 5307.02s/it]"
     ]
    },
    {
     "name": "stdout",
     "output_type": "stream",
     "text": [
      "Data Shape: (21263, 82)\n",
      "Training Features Shape: (14033, 81)\n",
      "Training Labels Shape: (14033, 1)\n",
      "Testing Features Shape: (7230, 81)\n",
      "Testing Labels Shape: (7230, 1)\n",
      "Training Size: 0.66 vs. Testing Size: 0.33999999999999997\n"
     ]
    },
    {
     "name": "stderr",
     "output_type": "stream",
     "text": [
      " 40%|████      | 10/25 [5:22:23<15:42:53, 3771.57s/it]"
     ]
    },
    {
     "name": "stdout",
     "output_type": "stream",
     "text": [
      "Data Shape: (21263, 82)\n",
      "Training Features Shape: (14033, 81)\n",
      "Training Labels Shape: (14033, 1)\n",
      "Testing Features Shape: (7230, 81)\n",
      "Testing Labels Shape: (7230, 1)\n",
      "Training Size: 0.66 vs. Testing Size: 0.33999999999999997\n"
     ]
    },
    {
     "name": "stderr",
     "output_type": "stream",
     "text": [
      " 44%|████▍     | 11/25 [5:27:58<10:34:40, 2720.07s/it]"
     ]
    },
    {
     "name": "stdout",
     "output_type": "stream",
     "text": [
      "Data Shape: (21263, 82)\n",
      "Training Features Shape: (14033, 81)\n",
      "Training Labels Shape: (14033, 1)\n",
      "Testing Features Shape: (7230, 81)\n",
      "Testing Labels Shape: (7230, 1)\n",
      "Training Size: 0.66 vs. Testing Size: 0.33999999999999997\n"
     ]
    },
    {
     "name": "stderr",
     "output_type": "stream",
     "text": [
      " 48%|████▊     | 12/25 [5:33:27<7:11:43, 1992.61s/it] "
     ]
    },
    {
     "name": "stdout",
     "output_type": "stream",
     "text": [
      "Data Shape: (21263, 82)\n",
      "Training Features Shape: (14033, 81)\n",
      "Training Labels Shape: (14033, 1)\n",
      "Testing Features Shape: (7230, 81)\n",
      "Testing Labels Shape: (7230, 1)\n",
      "Training Size: 0.66 vs. Testing Size: 0.33999999999999997\n"
     ]
    },
    {
     "name": "stderr",
     "output_type": "stream",
     "text": [
      " 52%|█████▏    | 13/25 [5:38:59<4:57:55, 1489.63s/it]"
     ]
    },
    {
     "name": "stdout",
     "output_type": "stream",
     "text": [
      "Data Shape: (21263, 82)\n",
      "Training Features Shape: (14033, 81)\n",
      "Training Labels Shape: (14033, 1)\n",
      "Testing Features Shape: (7230, 81)\n",
      "Testing Labels Shape: (7230, 1)\n",
      "Training Size: 0.66 vs. Testing Size: 0.33999999999999997\n"
     ]
    },
    {
     "name": "stderr",
     "output_type": "stream",
     "text": [
      " 56%|█████▌    | 14/25 [5:44:36<3:29:14, 1141.34s/it]"
     ]
    },
    {
     "name": "stdout",
     "output_type": "stream",
     "text": [
      "Data Shape: (21263, 82)\n",
      "Training Features Shape: (14033, 81)\n",
      "Training Labels Shape: (14033, 1)\n",
      "Testing Features Shape: (7230, 81)\n",
      "Testing Labels Shape: (7230, 1)\n",
      "Training Size: 0.66 vs. Testing Size: 0.33999999999999997\n"
     ]
    },
    {
     "name": "stderr",
     "output_type": "stream",
     "text": [
      " 60%|██████    | 15/25 [5:49:52<2:28:46, 892.67s/it] "
     ]
    },
    {
     "name": "stdout",
     "output_type": "stream",
     "text": [
      "Data Shape: (21263, 82)\n",
      "Training Features Shape: (14033, 81)\n",
      "Training Labels Shape: (14033, 1)\n",
      "Testing Features Shape: (7230, 81)\n",
      "Testing Labels Shape: (7230, 1)\n",
      "Training Size: 0.66 vs. Testing Size: 0.33999999999999997\n"
     ]
    },
    {
     "name": "stderr",
     "output_type": "stream",
     "text": [
      " 64%|██████▍   | 16/25 [5:55:09<1:47:54, 719.37s/it]"
     ]
    },
    {
     "name": "stdout",
     "output_type": "stream",
     "text": [
      "Data Shape: (21263, 82)\n",
      "Training Features Shape: (14033, 81)\n",
      "Training Labels Shape: (14033, 1)\n",
      "Testing Features Shape: (7230, 81)\n",
      "Testing Labels Shape: (7230, 1)\n",
      "Training Size: 0.66 vs. Testing Size: 0.33999999999999997\n"
     ]
    },
    {
     "name": "stderr",
     "output_type": "stream",
     "text": [
      " 68%|██████▊   | 17/25 [6:00:53<1:20:52, 606.52s/it]"
     ]
    },
    {
     "name": "stdout",
     "output_type": "stream",
     "text": [
      "Data Shape: (21263, 82)\n",
      "Training Features Shape: (14033, 81)\n",
      "Training Labels Shape: (14033, 1)\n",
      "Testing Features Shape: (7230, 81)\n",
      "Testing Labels Shape: (7230, 1)\n",
      "Training Size: 0.66 vs. Testing Size: 0.33999999999999997\n"
     ]
    },
    {
     "name": "stderr",
     "output_type": "stream",
     "text": [
      " 72%|███████▏  | 18/25 [6:06:34<1:01:26, 526.61s/it]"
     ]
    },
    {
     "name": "stdout",
     "output_type": "stream",
     "text": [
      "Data Shape: (21263, 82)\n",
      "Training Features Shape: (14033, 81)\n",
      "Training Labels Shape: (14033, 1)\n",
      "Testing Features Shape: (7230, 81)\n",
      "Testing Labels Shape: (7230, 1)\n",
      "Training Size: 0.66 vs. Testing Size: 0.33999999999999997\n"
     ]
    },
    {
     "name": "stderr",
     "output_type": "stream",
     "text": [
      " 76%|███████▌  | 19/25 [6:11:58<46:35, 465.85s/it]  "
     ]
    },
    {
     "name": "stdout",
     "output_type": "stream",
     "text": [
      "Data Shape: (21263, 82)\n",
      "Training Features Shape: (14033, 81)\n",
      "Training Labels Shape: (14033, 1)\n",
      "Testing Features Shape: (7230, 81)\n",
      "Testing Labels Shape: (7230, 1)\n",
      "Training Size: 0.66 vs. Testing Size: 0.33999999999999997\n"
     ]
    },
    {
     "name": "stderr",
     "output_type": "stream",
     "text": [
      " 80%|████████  | 20/25 [6:17:25<35:20, 424.13s/it]"
     ]
    },
    {
     "name": "stdout",
     "output_type": "stream",
     "text": [
      "Data Shape: (21263, 82)\n",
      "Training Features Shape: (14033, 81)\n",
      "Training Labels Shape: (14033, 1)\n",
      "Testing Features Shape: (7230, 81)\n",
      "Testing Labels Shape: (7230, 1)\n",
      "Training Size: 0.66 vs. Testing Size: 0.33999999999999997\n"
     ]
    },
    {
     "name": "stderr",
     "output_type": "stream",
     "text": [
      " 84%|████████▍ | 21/25 [6:22:50<26:17, 394.42s/it]"
     ]
    },
    {
     "name": "stdout",
     "output_type": "stream",
     "text": [
      "Data Shape: (21263, 82)\n",
      "Training Features Shape: (14033, 81)\n",
      "Training Labels Shape: (14033, 1)\n",
      "Testing Features Shape: (7230, 81)\n",
      "Testing Labels Shape: (7230, 1)\n",
      "Training Size: 0.66 vs. Testing Size: 0.33999999999999997\n"
     ]
    },
    {
     "name": "stderr",
     "output_type": "stream",
     "text": [
      " 88%|████████▊ | 22/25 [6:28:45<19:07, 382.45s/it]"
     ]
    },
    {
     "name": "stdout",
     "output_type": "stream",
     "text": [
      "Data Shape: (21263, 82)\n",
      "Training Features Shape: (14033, 81)\n",
      "Training Labels Shape: (14033, 1)\n",
      "Testing Features Shape: (7230, 81)\n",
      "Testing Labels Shape: (7230, 1)\n",
      "Training Size: 0.66 vs. Testing Size: 0.33999999999999997\n"
     ]
    },
    {
     "name": "stderr",
     "output_type": "stream",
     "text": [
      " 92%|█████████▏| 23/25 [6:34:33<12:24, 372.07s/it]"
     ]
    },
    {
     "name": "stdout",
     "output_type": "stream",
     "text": [
      "Data Shape: (21263, 82)\n",
      "Training Features Shape: (14033, 81)\n",
      "Training Labels Shape: (14033, 1)\n",
      "Testing Features Shape: (7230, 81)\n",
      "Testing Labels Shape: (7230, 1)\n",
      "Training Size: 0.66 vs. Testing Size: 0.33999999999999997\n"
     ]
    },
    {
     "name": "stderr",
     "output_type": "stream",
     "text": [
      " 96%|█████████▌| 24/25 [6:40:01<05:59, 359.04s/it]"
     ]
    },
    {
     "name": "stdout",
     "output_type": "stream",
     "text": [
      "Data Shape: (21263, 82)\n",
      "Training Features Shape: (14033, 81)\n",
      "Training Labels Shape: (14033, 1)\n",
      "Testing Features Shape: (7230, 81)\n",
      "Testing Labels Shape: (7230, 1)\n",
      "Training Size: 0.66 vs. Testing Size: 0.33999999999999997\n"
     ]
    },
    {
     "name": "stderr",
     "output_type": "stream",
     "text": [
      "100%|██████████| 25/25 [6:45:27<00:00, 973.10s/it]\n"
     ]
    }
   ],
   "source": [
    "mse_xgb_lowest_rmse_values = []\n",
    "for index in tqdm(range(25)):\n",
    "    training_X, training_y, testing_X, testing_y = load_and_split(random_state=index)\n",
    "    xgb_lowest_rmse = XGBRegressor(\n",
    "        learning_rate = 0.02,\n",
    "        max_depth = 16,\n",
    "        min_child_weight = 1,\n",
    "        n_estimators=374,\n",
    "        colsample_bytree=0.5,\n",
    "        colsample_bylevel=0.5,\n",
    "        colsample_bynode=0.5\n",
    "    )\n",
    "    xgb_lowest_rmse.fit(training_X, training_y)\n",
    "    mse_xgb_lowest_rmse_values.append(out_of_sample_mse(testing_y, prediction_xgb_lowest_rmse))\n"
   ]
  },
  {
   "cell_type": "markdown",
   "metadata": {},
   "source": [
    "> 6. Take the mean of the 25 collected out-of-sample mse's and report the square root of this average as the final estimate of the out-of-sample-rmse."
   ]
  },
  {
   "cell_type": "code",
   "execution_count": 15,
   "metadata": {},
   "outputs": [
    {
     "name": "stdout",
     "output_type": "stream",
     "text": [
      "XGBoost RMSE: 47.51016795227898\n"
     ]
    }
   ],
   "source": [
    "print(f\"XGBoost RMSE: {np.sqrt(np.mean(mse_xgb_lowest_rmse_values))}\")"
   ]
  }
 ],
 "metadata": {
  "kernelspec": {
   "display_name": "Python 3.10.6 ('base')",
   "language": "python",
   "name": "python3"
  },
  "language_info": {
   "codemirror_mode": {
    "name": "ipython",
    "version": 3
   },
   "file_extension": ".py",
   "mimetype": "text/x-python",
   "name": "python",
   "nbconvert_exporter": "python",
   "pygments_lexer": "ipython3",
   "version": "3.10.6"
  },
  "orig_nbformat": 4,
  "vscode": {
   "interpreter": {
    "hash": "d4d1e4263499bec80672ea0156c357c1ee493ec2b1c70f0acce89fc37c4a6abe"
   }
  }
 },
 "nbformat": 4,
 "nbformat_minor": 2
}
